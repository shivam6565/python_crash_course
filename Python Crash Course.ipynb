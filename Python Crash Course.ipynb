{
 "cells": [
  {
   "cell_type": "markdown",
   "id": "26efb36b",
   "metadata": {},
   "source": [
    "# Python Crash Course"
   ]
  },
  {
   "cell_type": "markdown",
   "id": "f6a4e12b",
   "metadata": {},
   "source": [
    "## Part 1. Basics"
   ]
  },
  {
   "cell_type": "markdown",
   "id": "278146d7",
   "metadata": {},
   "source": [
    "### Chapter 1. Getting Started"
   ]
  },
  {
   "cell_type": "code",
   "execution_count": null,
   "id": "e4290321",
   "metadata": {},
   "outputs": [],
   "source": []
  }
 ],
 "metadata": {
  "kernelspec": {
   "display_name": "Python 3",
   "language": "python",
   "name": "python3"
  },
  "language_info": {
   "codemirror_mode": {
    "name": "ipython",
    "version": 3
   },
   "file_extension": ".py",
   "mimetype": "text/x-python",
   "name": "python",
   "nbconvert_exporter": "python",
   "pygments_lexer": "ipython3",
   "version": "3.7.4"
  }
 },
 "nbformat": 4,
 "nbformat_minor": 5
}
